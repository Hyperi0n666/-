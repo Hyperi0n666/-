{
 "cells": [
  {
   "cell_type": "code",
   "execution_count": 36,
   "metadata": {},
   "outputs": [],
   "source": [
    "import requests\n",
    "from bs4 import BeautifulSoup as bs\n"
   ]
  },
  {
   "cell_type": "code",
   "execution_count": null,
   "metadata": {},
   "outputs": [],
   "source": [
    "get_html = requests.get('https://books.toscrape.com/catalogue/page-1.html')\n",
    "if get_html.status_code==200:\n",
    "    soup = bs(get_html.content, 'html.parser')\n",
    "    next_page='https://books.toscrape.com/catalogue/'+soup.find('li', attrs={'class': 'next'}).find('a')[\"href\"]\n",
    "    \n",
    "    get_next_html = requests.get(next_page)\n",
    "    if get_next_html.status_code == 200:\n",
    "        print(get_next_html.content)"
   ]
  },
  {
   "cell_type": "code",
   "execution_count": 38,
   "metadata": {},
   "outputs": [],
   "source": [
    "def get_books(content):\n",
    "    soup = bs(content, 'html.parser')\n",
    "    ol = soup.find('ol', attrs={\"class\": 'row'})\n",
    "    books = ol.select('li')\n",
    "\n",
    "    books_data=[]\n",
    "    for book in books:\n",
    "        image = 'https://books.toscrape.com/catalogue/'+book.find('div', attrs={'class': 'image_container'}).find('img')['src']\n",
    "        title = book.find('h3').find('a')['title']\n",
    "        price = book.find('p', attrs={'class':'price_color'}).text\n",
    "\n",
    "        book_dict = {\n",
    "            'image': image,\n",
    "            'title': title,\n",
    "            'price': price\n",
    "        }\n",
    "        books_data.append(book_dict)\n",
    "    return books_data"
   ]
  },
  {
   "cell_type": "code",
   "execution_count": 39,
   "metadata": {},
   "outputs": [],
   "source": [
    "def get_next_page(content):\n",
    "   soup = bs(content, 'html.parser')\n",
    "   try:\n",
    "    next_page='https://books.toscrape.com/catalogue/'+soup.find('li', attrs={'class': 'next'}).find('a')[\"href\"]\n",
    "    return next_page\n",
    "   except:\n",
    "      pass"
   ]
  },
  {
   "cell_type": "code",
   "execution_count": 40,
   "metadata": {},
   "outputs": [
    {
     "name": "stdout",
     "output_type": "stream",
     "text": [
      "получено 20 с 1 страницы\n",
      "Начинаем парсить 2\n",
      "получено 20 с 2 страницы\n",
      "Начинаем парсить 3\n",
      "получено 20 с 3 страницы\n",
      "Начинаем парсить 4\n",
      "получено 20 с 4 страницы\n",
      "Начинаем парсить 5\n",
      "получено 20 с 5 страницы\n",
      "Начинаем парсить 6\n",
      "получено 20 с 6 страницы\n",
      "Начинаем парсить 7\n",
      "получено 20 с 7 страницы\n",
      "Начинаем парсить 8\n",
      "получено 20 с 8 страницы\n",
      "Начинаем парсить 9\n",
      "получено 20 с 9 страницы\n",
      "Начинаем парсить 10\n",
      "получено 20 с 10 страницы\n",
      "Начинаем парсить 11\n",
      "получено 20 с 11 страницы\n",
      "Начинаем парсить 12\n",
      "получено 20 с 12 страницы\n",
      "Начинаем парсить 13\n",
      "получено 20 с 13 страницы\n",
      "Начинаем парсить 14\n",
      "получено 20 с 14 страницы\n",
      "Начинаем парсить 15\n",
      "получено 20 с 15 страницы\n",
      "Начинаем парсить 16\n",
      "получено 20 с 16 страницы\n",
      "Начинаем парсить 17\n",
      "получено 20 с 17 страницы\n",
      "Начинаем парсить 18\n",
      "получено 20 с 18 страницы\n",
      "Начинаем парсить 19\n",
      "получено 20 с 19 страницы\n",
      "Начинаем парсить 20\n",
      "получено 20 с 20 страницы\n",
      "Начинаем парсить 21\n",
      "получено 20 с 21 страницы\n",
      "Начинаем парсить 22\n",
      "получено 20 с 22 страницы\n",
      "Начинаем парсить 23\n",
      "получено 20 с 23 страницы\n",
      "Начинаем парсить 24\n",
      "получено 20 с 24 страницы\n",
      "Начинаем парсить 25\n",
      "получено 20 с 25 страницы\n",
      "Начинаем парсить 26\n",
      "получено 20 с 26 страницы\n",
      "Начинаем парсить 27\n",
      "получено 20 с 27 страницы\n",
      "Начинаем парсить 28\n",
      "получено 20 с 28 страницы\n",
      "Начинаем парсить 29\n",
      "получено 20 с 29 страницы\n",
      "Начинаем парсить 30\n",
      "получено 20 с 30 страницы\n",
      "Начинаем парсить 31\n",
      "получено 20 с 31 страницы\n",
      "Начинаем парсить 32\n",
      "получено 20 с 32 страницы\n",
      "Начинаем парсить 33\n",
      "получено 20 с 33 страницы\n",
      "Начинаем парсить 34\n",
      "получено 20 с 34 страницы\n",
      "Начинаем парсить 35\n",
      "получено 20 с 35 страницы\n",
      "Начинаем парсить 36\n",
      "получено 20 с 36 страницы\n",
      "Начинаем парсить 37\n",
      "получено 20 с 37 страницы\n",
      "Начинаем парсить 38\n",
      "получено 20 с 38 страницы\n",
      "Начинаем парсить 39\n",
      "получено 20 с 39 страницы\n",
      "Начинаем парсить 40\n",
      "получено 20 с 40 страницы\n",
      "Начинаем парсить 41\n",
      "получено 20 с 41 страницы\n",
      "Начинаем парсить 42\n",
      "получено 20 с 42 страницы\n",
      "Начинаем парсить 43\n",
      "получено 20 с 43 страницы\n",
      "Начинаем парсить 44\n",
      "получено 20 с 44 страницы\n",
      "Начинаем парсить 45\n",
      "получено 20 с 45 страницы\n",
      "Начинаем парсить 46\n",
      "получено 20 с 46 страницы\n",
      "Начинаем парсить 47\n",
      "получено 20 с 47 страницы\n",
      "Начинаем парсить 48\n",
      "получено 20 с 48 страницы\n",
      "Начинаем парсить 49\n",
      "получено 20 с 49 страницы\n",
      "Начинаем парсить 50\n",
      "получено 20 с 50 страницы\n",
      "Данные спарсились: 50 страниц, 1000 книг\n"
     ]
    }
   ],
   "source": [
    "final_data = []\n",
    "page_number = 1\n",
    "url = 'https://books.toscrape.com/catalogue/page-1.html'\n",
    "get_html = requests.get(url)\n",
    "if get_html.status_code == 200:\n",
    "    while True:\n",
    "        books = get_books(get_html.content)\n",
    "        print(f'получено {len(books)} с {page_number} страницы')\n",
    "        final_data +=books\n",
    "\n",
    "        next_page = get_next_page(get_html.content)\n",
    "        if next_page:\n",
    "            page_number+=1\n",
    "            get_html = requests.get(next_page)\n",
    "            if get_html.status_code ==200:\n",
    "              print(f'Начинаем парсить {page_number}')\n",
    "        else:\n",
    "            break\n",
    "print(f'Данные спарсились: {page_number} страниц, {len(final_data)} книг')"
   ]
  },
  {
   "cell_type": "code",
   "execution_count": 41,
   "metadata": {},
   "outputs": [
    {
     "data": {
      "text/plain": [
       "{'image': 'https://books.toscrape.com/catalogue/../media/cache/92/27/92274a95b7c251fea59a2b8a78275ab4.jpg',\n",
       " 'title': 'The Dirty Little Secrets of Getting Your Dream Job',\n",
       " 'price': '£33.34'}"
      ]
     },
     "execution_count": 41,
     "metadata": {},
     "output_type": "execute_result"
    }
   ],
   "source": [
    "final_data[6]"
   ]
  }
 ],
 "metadata": {
  "kernelspec": {
   "display_name": "Python 3.10.7 64-bit",
   "language": "python",
   "name": "python3"
  },
  "language_info": {
   "codemirror_mode": {
    "name": "ipython",
    "version": 3
   },
   "file_extension": ".py",
   "mimetype": "text/x-python",
   "name": "python",
   "nbconvert_exporter": "python",
   "pygments_lexer": "ipython3",
   "version": "3.10.7"
  },
  "orig_nbformat": 4,
  "vscode": {
   "interpreter": {
    "hash": "f6a3a25c74cd0da2192a41ef485804de5be3e8bfabdab7b7d3444c62efa2594c"
   }
  }
 },
 "nbformat": 4,
 "nbformat_minor": 2
}
